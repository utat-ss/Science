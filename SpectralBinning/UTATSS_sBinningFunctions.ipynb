{
 "cells": [
  {
   "cell_type": "code",
   "execution_count": null,
   "id": "a337cde7-8cc9-4aa2-b2a9-77ad275803da",
   "metadata": {},
   "outputs": [],
   "source": [
    "import numpy as np\n",
    "import matplotlib.pyplot as plt \n",
    "import PIL\n",
    "from PIL import Image\n",
    "import pandas as pd\n",
    "import statistics\n",
    "import math"
   ]
  },
  {
   "cell_type": "code",
   "execution_count": null,
   "id": "6b41461b-225e-4eac-9096-d3613618ed40",
   "metadata": {},
   "outputs": [],
   "source": [
    "S = np.load('datacube.npy') #EnMap datacube provided by Data Processing \n",
    "def DataCubeBinning(s):\n",
    "    #Slice setup\n",
    "    p = 100 #Slice of DataCube. \n",
    "    a = s[:, :, p] #for 2, 4 pixels per bin\n",
    "    #a = s[:222, :, p] #for 3 pixels per bin\n",
    "    #a = s[:220, :, p] #for 5 pixels per bin\n",
    "    a = np.rot90(a)\n",
    "    #View unbinned slice\n",
    "    plt.imshow(a, interpolation='nearest')\n",
    "    plt.xlabel(\"Frequency\")\n",
    "    plt.ylabel(\"Space\")\n",
    "    plt.show()\n",
    "    #plt.savefig(\"data(100).png\")\n",
    "    #2 pixels per bin\n",
    "    a = a.reshape((640, 112, 2))\n",
    "    a = np.sum(a, axis = 2)\n",
    "    #3 pixels per bin\n",
    "    #a = a.reshape((640, 74, 3))\n",
    "    #a = np.sum(a, axis = 2)\n",
    "    #4 pixels per bin\n",
    "    #a = a.reshape((640, 56, 4))\n",
    "    #a = np.sum(a, axis = 2)\n",
    "    #5 pixels per bin\n",
    "    #a = a.reshape((640, 44, 5))\n",
    "    #a = np.sum(a, axis = 2)\n",
    "    #View binned slice\n",
    "    plt.imshow(a, interpolation='nearest')\n",
    "    plt.xlabel(\"Frequency\")\n",
    "    plt.ylabel(\"Space\")\n",
    "    plt.show\n",
    "    #plt.savefig(\"data(100)(2, 3, 4, 5).png\")\n",
    "DataCubeBinning(S)"
   ]
  },
  {
   "cell_type": "code",
   "execution_count": null,
   "id": "268d4cf8-43d9-4519-97ce-e7cd2c2cd80f",
   "metadata": {},
   "outputs": [],
   "source": [
    "d = pd.read_csv('fractional-cover-simulated-vswir-dataset-version-2--original-10nm-spectra.csv', usecols=range(8,216)) #2, 4 pixels per bin\n",
    "#df = pd.read_csv('fractional-cover-simulated-vswir-dataset-version-2--original-10nm-spectra.csv', usecols=range(8,215)) #3 pixels per bin\n",
    "#df = pd.read_csv('fractional-cover-simulated-vswir-dataset-version-2--original-10nm-spectra.csv', usecols=range(8,213)) #5 pixels per bin\n",
    "def FracCovSimBinning(df):\n",
    "    s = np.array(df)\n",
    "    #View unbinned slice\n",
    "    plt.imshow(s, interpolation='nearest')\n",
    "    plt.xlabel(\"Frequency\")\n",
    "    plt.ylabel(\"Spectra\")\n",
    "    plt.show()\n",
    "    #2 pixels per bin\n",
    "    s = s.reshape(1723, 104, 2)\n",
    "    s = np.sum(s, axis = 2)\n",
    "    #3 pixels per bin\n",
    "    #s = s.reshape(1723, 69, 3)\n",
    "    #s = np.sum(s, axis = 2)\n",
    "    #4 pixels per bin\n",
    "    #s = s.reshape(1723, 52, 4)\n",
    "    #s = np.sum(s, axis = 2)\n",
    "    #5 pixels per bin\n",
    "    #s = s.reshape(1723, 41, 5)\n",
    "    #s = np.sum(s, axis = 2)\n",
    "    #View binned slice\n",
    "    plt.imshow(s, interpolation='nearest')\n",
    "    plt.xlabel(\"Frequency\")\n",
    "    plt.ylabel(\"Spectra\")\n",
    "    plt.show()\n",
    "    np.save(\"fcs2\", s)\n",
    "FracCovSimBinning(d)"
   ]
  },
  {
   "cell_type": "code",
   "execution_count": null,
   "id": "6ee51343-ec8f-4dc7-87f8-45d8c3e83a76",
   "metadata": {},
   "outputs": [],
   "source": []
  }
 ],
 "metadata": {
  "kernelspec": {
   "display_name": "Python 3 (ipykernel)",
   "language": "python",
   "name": "python3"
  },
  "language_info": {
   "codemirror_mode": {
    "name": "ipython",
    "version": 3
   },
   "file_extension": ".py",
   "mimetype": "text/x-python",
   "name": "python",
   "nbconvert_exporter": "python",
   "pygments_lexer": "ipython3",
   "version": "3.10.11"
  }
 },
 "nbformat": 4,
 "nbformat_minor": 5
}
